{
  "cells": [
    {
      "cell_type": "code",
      "execution_count": 1,
      "metadata": {
        "id": "xIu3LIzDevZE"
      },
      "outputs": [],
      "source": [
        "from sklearn.preprocessing import StandardScaler\n",
        "from sklearn.model_selection import train_test_split\n",
        "from sklearn.neighbors import KNeighborsClassifier\n",
        "from sklearn.tree import DecisionTreeClassifier\n",
        "from sklearn.ensemble import RandomForestClassifier\n",
        "from sklearn.naive_bayes import GaussianNB\n",
        "from sklearn.neighbors import KNeighborsClassifier\n",
        "from sklearn.svm import SVC\n",
        "from sklearn.linear_model import LogisticRegression\n",
        "from sklearn.metrics import accuracy_score\n",
        "from sklearn.metrics import recall_score, confusion_matrix, precision_score, accuracy_score, classification_report\n",
        "from sklearn.metrics import confusion_matrix, accuracy_score \n",
        "from sklearn.metrics import f1_score, precision_score, recall_score\n",
        "from sklearn.model_selection import GridSearchCV\n",
        "from sklearn import model_selection\n",
        "from sklearn.metrics import classification_report\n",
        "from sklearn.metrics import recall_score\n",
        "from sklearn.metrics import accuracy_score, precision_score, recall_score\n",
        "from sklearn.metrics import classification_report, confusion_matrix\n",
        "\n",
        "import pandas as pd"
      ]
    },
    {
      "cell_type": "code",
      "execution_count": 2,
      "metadata": {
        "id": "GibF0x47e297"
      },
      "outputs": [],
      "source": [
        "df = pd.read_csv(\"./input/clean_data/telecom_customer_churn.csv\")"
      ]
    },
    {
      "cell_type": "code",
      "execution_count": 3,
      "metadata": {
        "id": "wy5zh62xe5Qk"
      },
      "outputs": [],
      "source": [
        "y = df[\"customerstatus\"].values\n",
        "X = df.drop(columns = \"customerstatus\")\n",
        "X_train, X_test, y_train, y_test = train_test_split(X, y, test_size = 0.3, random_state = 4, stratify =y)\n",
        "col=['totalcharges','avgmonthlylongdistancecharges','monthlycharge','totalrevenue','totallongdistancecharges',\n",
        "     'tenureinmonths','totallongdistancecharges','totalextradatacharges']"
      ]
    },
    {
      "cell_type": "code",
      "execution_count": 4,
      "metadata": {
        "id": "dN07dX1DfHYn"
      },
      "outputs": [],
      "source": [
        "scaler = StandardScaler()\n",
        "X_train[col] = StandardScaler().fit_transform(X_train[col])\n",
        "X_test[col] = StandardScaler().fit_transform(X_test[col])"
      ]
    },
    {
      "cell_type": "code",
      "execution_count": 5,
      "metadata": {
        "colab": {
          "base_uri": "https://localhost:8080/",
          "height": 238
        },
        "id": "rHltER4lfR7i",
        "outputId": "732b63b7-b581-479c-b7c8-2df12785fac4"
      },
      "outputs": [
        {
          "data": {
            "text/html": [
              "<div>\n",
              "<style scoped>\n",
              "    .dataframe tbody tr th:only-of-type {\n",
              "        vertical-align: middle;\n",
              "    }\n",
              "\n",
              "    .dataframe tbody tr th {\n",
              "        vertical-align: top;\n",
              "    }\n",
              "\n",
              "    .dataframe thead th {\n",
              "        text-align: right;\n",
              "    }\n",
              "</style>\n",
              "<table border=\"1\" class=\"dataframe\">\n",
              "  <thead>\n",
              "    <tr style=\"text-align: right;\">\n",
              "      <th></th>\n",
              "      <th>Algorithm</th>\n",
              "      <th>Accuracy</th>\n",
              "      <th>Precision</th>\n",
              "      <th>f1 Score</th>\n",
              "    </tr>\n",
              "  </thead>\n",
              "  <tbody>\n",
              "    <tr>\n",
              "      <th>4</th>\n",
              "      <td>Random Forest</td>\n",
              "      <td>86.56</td>\n",
              "      <td>88.31</td>\n",
              "      <td>91.05</td>\n",
              "    </tr>\n",
              "    <tr>\n",
              "      <th>0</th>\n",
              "      <td>Logistic Regression</td>\n",
              "      <td>84.39</td>\n",
              "      <td>89.37</td>\n",
              "      <td>89.06</td>\n",
              "    </tr>\n",
              "    <tr>\n",
              "      <th>5</th>\n",
              "      <td>Decision Tree Classifier</td>\n",
              "      <td>81.55</td>\n",
              "      <td>87.94</td>\n",
              "      <td>87.17</td>\n",
              "    </tr>\n",
              "    <tr>\n",
              "      <th>1</th>\n",
              "      <td>Kernel SVM</td>\n",
              "      <td>79.27</td>\n",
              "      <td>80.52</td>\n",
              "      <td>86.63</td>\n",
              "    </tr>\n",
              "    <tr>\n",
              "      <th>3</th>\n",
              "      <td>Gaussian NB</td>\n",
              "      <td>76.87</td>\n",
              "      <td>91.32</td>\n",
              "      <td>82.23</td>\n",
              "    </tr>\n",
              "    <tr>\n",
              "      <th>2</th>\n",
              "      <td>KNN</td>\n",
              "      <td>75.43</td>\n",
              "      <td>82.60</td>\n",
              "      <td>82.90</td>\n",
              "    </tr>\n",
              "  </tbody>\n",
              "</table>\n",
              "</div>"
            ],
            "text/plain": [
              "                  Algorithm  Accuracy  Precision  f1 Score\n",
              "4             Random Forest     86.56      88.31     91.05\n",
              "0       Logistic Regression     84.39      89.37     89.06\n",
              "5  Decision Tree Classifier     81.55      87.94     87.17\n",
              "1                Kernel SVM     79.27      80.52     86.63\n",
              "3               Gaussian NB     76.87      91.32     82.23\n",
              "2                       KNN     75.43      82.60     82.90"
            ]
          },
          "execution_count": 5,
          "metadata": {},
          "output_type": "execute_result"
        }
      ],
      "source": [
        "models = []\n",
        "models.append(('Logistic Regression', LogisticRegression(max_iter=1000)))\n",
        "models.append(('Kernel SVM', SVC()))\n",
        "models.append(('KNN', KNeighborsClassifier()))\n",
        "models.append(('Gaussian NB', GaussianNB()))\n",
        "models.append(('Random Forest', RandomForestClassifier()))\n",
        "models.append(('Decision Tree Classifier', DecisionTreeClassifier()))\n",
        "\n",
        "acc_results =[]\n",
        "pre_results =[]\n",
        "f1_results =[]\n",
        "names = []\n",
        "\n",
        "result_col = [\"Algorithm\", \"Accuracy\", \"Precision\", \"f1 Score\"]\n",
        "model_results = pd.DataFrame(columns = result_col)\n",
        "\n",
        "i=0\n",
        "# K- fold cross validation\n",
        "\n",
        "for name, model in models:\n",
        "    names.append(name)\n",
        "    # kfold = model_selection.KFold(n_splits=10)\n",
        "    \n",
        "    cv_acc_results = model_selection.cross_val_score(model, X_train, y_train, \n",
        "                     scoring=\"accuracy\")\n",
        "    cv_pre_results = model_selection.cross_val_score(model, X_train, y_train,\n",
        "                     scoring=\"precision\")\n",
        "    cv_f1_results = model_selection.cross_val_score(model, X_train, y_train,\n",
        "                     scoring=\"f1\")\n",
        "    acc_results.append(cv_acc_results)\n",
        "    pre_results.append(cv_pre_results)\n",
        "    f1_results.append(cv_f1_results)\n",
        "    \n",
        "    model_results.loc[i] = [name, \n",
        "                           round(cv_acc_results.mean()*100,2),\n",
        "                           round(cv_pre_results.mean()*100,2),\n",
        "                           round(cv_f1_results.mean()*100,2)]\n",
        "    i+=1\n",
        "\n",
        "model_results.sort_values(by = ['Accuracy'], ascending=False)"
      ]
    },
    {
      "cell_type": "code",
      "execution_count": 6,
      "metadata": {
        "colab": {
          "base_uri": "https://localhost:8080/"
        },
        "id": "-oSPKKbPgpFY",
        "outputId": "4b677e27-7f28-4ea6-da84-df92ecf27f2a"
      },
      "outputs": [
        {
          "name": "stdout",
          "output_type": "stream",
          "text": [
            "Training accuracy  1.000\n",
            "Testing accuracy  0.870\n"
          ]
        }
      ],
      "source": [
        "modelR = RandomForestClassifier()\n",
        "modelR.fit(X_train, y_train)\n",
        "pred_train = modelR.predict(X_train)\n",
        "pred_test=modelR.predict(X_test)\n",
        "acc_train = accuracy_score(pred_train, y_train)\n",
        "acc_test = accuracy_score(pred_test, y_test)\n",
        "print(f'Training accuracy {acc_train: .3f}') \n",
        "print(f'Testing accuracy {acc_test: .3f}')"
      ]
    },
    {
      "cell_type": "code",
      "execution_count": 7,
      "metadata": {
        "colab": {
          "base_uri": "https://localhost:8080/"
        },
        "id": "6EbyJk3hg3YC",
        "outputId": "b15a5e37-0c52-4b88-e9e2-7ef307b6149b"
      },
      "outputs": [
        {
          "name": "stdout",
          "output_type": "stream",
          "text": [
            "Fitting 5 folds for each of 27 candidates, totalling 135 fits\n",
            "\n",
            "Best parameters found:\n",
            "{'max_features': 20, 'max_leaf_nodes': 24, 'n_estimators': 50}\n",
            "\n",
            "Grid scores:\n",
            "0.865 (+/-0.012) for {'max_features': 15, 'max_leaf_nodes': 8, 'n_estimators': 25}\n",
            "0.869 (+/-0.015) for {'max_features': 15, 'max_leaf_nodes': 8, 'n_estimators': 50}\n",
            "0.869 (+/-0.012) for {'max_features': 15, 'max_leaf_nodes': 8, 'n_estimators': 75}\n",
            "0.866 (+/-0.008) for {'max_features': 15, 'max_leaf_nodes': 16, 'n_estimators': 25}\n",
            "0.868 (+/-0.013) for {'max_features': 15, 'max_leaf_nodes': 16, 'n_estimators': 50}\n",
            "0.870 (+/-0.015) for {'max_features': 15, 'max_leaf_nodes': 16, 'n_estimators': 75}\n",
            "0.870 (+/-0.015) for {'max_features': 15, 'max_leaf_nodes': 24, 'n_estimators': 25}\n",
            "0.868 (+/-0.010) for {'max_features': 15, 'max_leaf_nodes': 24, 'n_estimators': 50}\n",
            "0.871 (+/-0.011) for {'max_features': 15, 'max_leaf_nodes': 24, 'n_estimators': 75}\n",
            "0.866 (+/-0.014) for {'max_features': 20, 'max_leaf_nodes': 8, 'n_estimators': 25}\n",
            "0.867 (+/-0.014) for {'max_features': 20, 'max_leaf_nodes': 8, 'n_estimators': 50}\n",
            "0.866 (+/-0.019) for {'max_features': 20, 'max_leaf_nodes': 8, 'n_estimators': 75}\n",
            "0.868 (+/-0.012) for {'max_features': 20, 'max_leaf_nodes': 16, 'n_estimators': 25}\n",
            "0.869 (+/-0.016) for {'max_features': 20, 'max_leaf_nodes': 16, 'n_estimators': 50}\n",
            "0.870 (+/-0.012) for {'max_features': 20, 'max_leaf_nodes': 16, 'n_estimators': 75}\n",
            "0.866 (+/-0.014) for {'max_features': 20, 'max_leaf_nodes': 24, 'n_estimators': 25}\n",
            "0.871 (+/-0.012) for {'max_features': 20, 'max_leaf_nodes': 24, 'n_estimators': 50}\n",
            "0.868 (+/-0.009) for {'max_features': 20, 'max_leaf_nodes': 24, 'n_estimators': 75}\n",
            "0.859 (+/-0.010) for {'max_features': 25, 'max_leaf_nodes': 8, 'n_estimators': 25}\n",
            "0.862 (+/-0.014) for {'max_features': 25, 'max_leaf_nodes': 8, 'n_estimators': 50}\n",
            "0.864 (+/-0.015) for {'max_features': 25, 'max_leaf_nodes': 8, 'n_estimators': 75}\n",
            "0.865 (+/-0.012) for {'max_features': 25, 'max_leaf_nodes': 16, 'n_estimators': 25}\n",
            "0.867 (+/-0.012) for {'max_features': 25, 'max_leaf_nodes': 16, 'n_estimators': 50}\n",
            "0.868 (+/-0.012) for {'max_features': 25, 'max_leaf_nodes': 16, 'n_estimators': 75}\n",
            "0.866 (+/-0.008) for {'max_features': 25, 'max_leaf_nodes': 24, 'n_estimators': 25}\n",
            "0.868 (+/-0.015) for {'max_features': 25, 'max_leaf_nodes': 24, 'n_estimators': 50}\n",
            "0.869 (+/-0.011) for {'max_features': 25, 'max_leaf_nodes': 24, 'n_estimators': 75}\n"
          ]
        }
      ],
      "source": [
        "tuned_parameters = [{'n_estimators': [25, 50, 75],\n",
        "                     'max_features': [15, 20, 25],\n",
        "                     'max_leaf_nodes': [8, 16, 24]}] # hyperparameters to tune\n",
        "\n",
        "clfR = GridSearchCV(RandomForestClassifier(), tuned_parameters, \n",
        "                   verbose=1, n_jobs=-1) # grid search model\n",
        "clfR.fit(X_train, y_train) # evaluate hyper-parameters\n",
        "\n",
        "print(\"\\nBest parameters found:\")\n",
        "print(clfR.best_params_) # best hyperparameter values\n",
        "\n",
        "print(\"\\nGrid scores:\")\n",
        "means = clfR.cv_results_['mean_test_score'] # mean accuracy with folds\n",
        "stds = clfR.cv_results_['std_test_score'] # standard deviation of accuracies\n",
        "# for each hyperparameter combination show mean +/- 2 standard-deviations \n",
        "for mean, std, params in zip(means, stds, clfR.cv_results_['params']):\n",
        "    print(\"%0.3f (+/-%0.03f) for %r\" %(mean, std * 2, params)) "
      ]
    },
    {
      "cell_type": "code",
      "execution_count": 8,
      "metadata": {
        "colab": {
          "base_uri": "https://localhost:8080/"
        },
        "id": "JTp8ZI8-hCMJ",
        "outputId": "12a2413b-d3fd-418b-c6b4-43735f0011af"
      },
      "outputs": [
        {
          "name": "stdout",
          "output_type": "stream",
          "text": [
            "RandomForestClassifier(max_features=15, max_leaf_nodes=24, n_estimators=75)\n",
            "Results on test data\n",
            "Test accuracy =  0.8660\n",
            "Test precision =  0.8720\n",
            "Test recall =  0.9527\n",
            "Classification report:\n",
            "              precision    recall  f1-score   support\n",
            "\n",
            "           0       0.84      0.65      0.73       561\n",
            "           1       0.87      0.95      0.91      1416\n",
            "\n",
            "    accuracy                           0.87      1977\n",
            "   macro avg       0.86      0.80      0.82      1977\n",
            "weighted avg       0.86      0.87      0.86      1977\n",
            "\n",
            "Confusion matrix (Rows actual, Columns predicted):\n",
            "     0     1\n",
            "0  363   198\n",
            "1   67  1349\n"
          ]
        }
      ],
      "source": [
        "# Specify non-default hyper-parameter values\n",
        "max_features = 15\n",
        "max_leaf_nodes = 24\n",
        "n_estimators = 75\n",
        "# Train and test model\n",
        "good_model = RandomForestClassifier(max_leaf_nodes = max_leaf_nodes,\n",
        "                                    max_features = max_features, \n",
        "                                    n_estimators=n_estimators, ) # create model \n",
        "print(good_model) # display model parameters\n",
        "good_model.fit(X_train, y_train) # train model\n",
        "pred = good_model.predict(X_test) # predicted output for test examples\n",
        "print(\"Results on test data\")\n",
        "acc = accuracy_score(y_test, pred) # accuracy on test examples\n",
        "prec = precision_score(y_test, pred) # precision on test examples\n",
        "reca = recall_score(y_test, pred) # recall on test examples\n",
        "print(f'Test accuracy = {acc: .4f}') # round to 4 decimal places\n",
        "print(f'Test precision = {prec: .4f}') # round to 4 decimal places\n",
        "print(f'Test recall = {reca: .4f}') # round to 4 decimal places\n",
        "print(\"Classification report:\")\n",
        "print(classification_report(y_test, pred))\n",
        "print(\"Confusion matrix (Rows actual, Columns predicted):\")\n",
        "print(pd.DataFrame(confusion_matrix(y_test, pred)))"
      ]
    }
  ],
  "metadata": {
    "colab": {
      "provenance": []
    },
    "kernelspec": {
      "display_name": "Python 3",
      "name": "python3"
    },
    "language_info": {
      "codemirror_mode": {
        "name": "ipython",
        "version": 3
      },
      "file_extension": ".py",
      "mimetype": "text/x-python",
      "name": "python",
      "nbconvert_exporter": "python",
      "pygments_lexer": "ipython3",
      "version": "3.10.4"
    }
  },
  "nbformat": 4,
  "nbformat_minor": 0
}
